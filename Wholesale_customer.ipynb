{
  "nbformat": 4,
  "nbformat_minor": 0,
  "metadata": {
    "colab": {
      "name": "Wholesale_customer.ipynb",
      "provenance": [],
      "collapsed_sections": []
    },
    "kernelspec": {
      "name": "python3",
      "display_name": "Python 3"
    }
  },
  "cells": [
    {
      "cell_type": "code",
      "metadata": {
        "id": "GJDgP-uc_Iwi",
        "colab_type": "code",
        "colab": {}
      },
      "source": [
        "import pandas as pd\n",
        "import numpy as np\n",
        "\n",
        "from sklearn.cluster import KMeans\n",
        "# Calculate silhouette_score\n",
        "from sklearn.metrics import silhouette_score\n",
        "import matplotlib.pyplot as plt\n",
        "#for Heirarchial clustering\n",
        "import scipy.cluster.hierarchy as shc\n",
        "from sklearn.cluster import AgglomerativeClustering\n",
        "#PCA\n",
        "from sklearn.decomposition import PCA\n",
        "#DBSCAN\n",
        "from sklearn.cluster import DBSCAN\n",
        "from sklearn.model_selection import RandomizedSearchCV\n",
        "\n",
        "import warnings\n",
        "warnings.filterwarnings(\"ignore\")"
      ],
      "execution_count": 0,
      "outputs": []
    },
    {
      "cell_type": "code",
      "metadata": {
        "id": "Q66ec3Fq_rbv",
        "colab_type": "code",
        "outputId": "ba73faee-94e6-4143-82a5-7a93dbde169a",
        "colab": {
          "base_uri": "https://localhost:8080/",
          "height": 135
        }
      },
      "source": [
        "from google.colab import drive\n",
        "drive.mount('/gdrive')\n",
        "#Change current working directory to gdrive\n",
        "%cd /gdrive"
      ],
      "execution_count": 2,
      "outputs": [
        {
          "output_type": "stream",
          "text": [
            "Go to this URL in a browser: https://accounts.google.com/o/oauth2/auth?client_id=947318989803-6bn6qk8qdgf4n4g3pfee6491hc0brc4i.apps.googleusercontent.com&redirect_uri=urn%3aietf%3awg%3aoauth%3a2.0%3aoob&response_type=code&scope=email%20https%3a%2f%2fwww.googleapis.com%2fauth%2fdocs.test%20https%3a%2f%2fwww.googleapis.com%2fauth%2fdrive%20https%3a%2f%2fwww.googleapis.com%2fauth%2fdrive.photos.readonly%20https%3a%2f%2fwww.googleapis.com%2fauth%2fpeopleapi.readonly\n",
            "\n",
            "Enter your authorization code:\n",
            "··········\n",
            "Mounted at /gdrive\n",
            "/gdrive\n"
          ],
          "name": "stdout"
        }
      ]
    },
    {
      "cell_type": "code",
      "metadata": {
        "id": "F0JUyvKd_1ai",
        "colab_type": "code",
        "outputId": "e187b820-9173-478c-b813-e393428e6824",
        "colab": {
          "base_uri": "https://localhost:8080/",
          "height": 189
        }
      },
      "source": [
        "#Read training data file\n",
        "\n",
        "trainfile = r'/gdrive/My Drive/CIS 508 Python/Assignment-5/Wholesale_customers_data.csv'\n",
        "trainData = pd.read_csv(trainfile)\n",
        "\n",
        "trainData_cpy = trainData\n",
        "\n",
        "# copy of train data and test data to perform pre processing\n",
        "cpy_traindata = trainData.copy()\n",
        "trainData.head()"
      ],
      "execution_count": 3,
      "outputs": [
        {
          "output_type": "execute_result",
          "data": {
            "text/html": [
              "<div>\n",
              "<style scoped>\n",
              "    .dataframe tbody tr th:only-of-type {\n",
              "        vertical-align: middle;\n",
              "    }\n",
              "\n",
              "    .dataframe tbody tr th {\n",
              "        vertical-align: top;\n",
              "    }\n",
              "\n",
              "    .dataframe thead th {\n",
              "        text-align: right;\n",
              "    }\n",
              "</style>\n",
              "<table border=\"1\" class=\"dataframe\">\n",
              "  <thead>\n",
              "    <tr style=\"text-align: right;\">\n",
              "      <th></th>\n",
              "      <th>Channel</th>\n",
              "      <th>Region</th>\n",
              "      <th>Fresh</th>\n",
              "      <th>Milk</th>\n",
              "      <th>Grocery</th>\n",
              "      <th>Frozen</th>\n",
              "      <th>Detergents_Paper</th>\n",
              "      <th>Delicassen</th>\n",
              "    </tr>\n",
              "  </thead>\n",
              "  <tbody>\n",
              "    <tr>\n",
              "      <th>0</th>\n",
              "      <td>2</td>\n",
              "      <td>3</td>\n",
              "      <td>12669</td>\n",
              "      <td>9656</td>\n",
              "      <td>7561</td>\n",
              "      <td>214</td>\n",
              "      <td>2674</td>\n",
              "      <td>1338</td>\n",
              "    </tr>\n",
              "    <tr>\n",
              "      <th>1</th>\n",
              "      <td>2</td>\n",
              "      <td>3</td>\n",
              "      <td>7057</td>\n",
              "      <td>9810</td>\n",
              "      <td>9568</td>\n",
              "      <td>1762</td>\n",
              "      <td>3293</td>\n",
              "      <td>1776</td>\n",
              "    </tr>\n",
              "    <tr>\n",
              "      <th>2</th>\n",
              "      <td>2</td>\n",
              "      <td>3</td>\n",
              "      <td>6353</td>\n",
              "      <td>8808</td>\n",
              "      <td>7684</td>\n",
              "      <td>2405</td>\n",
              "      <td>3516</td>\n",
              "      <td>7844</td>\n",
              "    </tr>\n",
              "    <tr>\n",
              "      <th>3</th>\n",
              "      <td>1</td>\n",
              "      <td>3</td>\n",
              "      <td>13265</td>\n",
              "      <td>1196</td>\n",
              "      <td>4221</td>\n",
              "      <td>6404</td>\n",
              "      <td>507</td>\n",
              "      <td>1788</td>\n",
              "    </tr>\n",
              "    <tr>\n",
              "      <th>4</th>\n",
              "      <td>2</td>\n",
              "      <td>3</td>\n",
              "      <td>22615</td>\n",
              "      <td>5410</td>\n",
              "      <td>7198</td>\n",
              "      <td>3915</td>\n",
              "      <td>1777</td>\n",
              "      <td>5185</td>\n",
              "    </tr>\n",
              "  </tbody>\n",
              "</table>\n",
              "</div>"
            ],
            "text/plain": [
              "   Channel  Region  Fresh  Milk  Grocery  Frozen  Detergents_Paper  Delicassen\n",
              "0        2       3  12669  9656     7561     214              2674        1338\n",
              "1        2       3   7057  9810     9568    1762              3293        1776\n",
              "2        2       3   6353  8808     7684    2405              3516        7844\n",
              "3        1       3  13265  1196     4221    6404               507        1788\n",
              "4        2       3  22615  5410     7198    3915              1777        5185"
            ]
          },
          "metadata": {
            "tags": []
          },
          "execution_count": 3
        }
      ]
    },
    {
      "cell_type": "code",
      "metadata": {
        "id": "CAGZA1-3CS9G",
        "colab_type": "code",
        "outputId": "91709cc1-6e13-4123-d39b-6c44a9d13d8d",
        "colab": {
          "base_uri": "https://localhost:8080/",
          "height": 537
        }
      },
      "source": [
        "#Analysing data\n",
        "print(\"Classification on channel\\n\",  trainData.groupby('Channel')['Channel'].count())\n",
        "print(\"Classification on region\\n\",  trainData.groupby('Region')['Region'].count())\n",
        "print(\"Milk\\n\",  trainData['Milk'].sum())\n",
        "print(\"Frozen\\n\",  trainData['Frozen'].sum())\n",
        "print(\"Shape of training data\", trainData.shape)\n",
        "trainData.describe()"
      ],
      "execution_count": 0,
      "outputs": [
        {
          "output_type": "stream",
          "text": [
            "Classification on channel\n",
            " Channel\n",
            "1    298\n",
            "2    142\n",
            "Name: Channel, dtype: int64\n",
            "Classification on region\n",
            " Region\n",
            "1     77\n",
            "2     47\n",
            "3    316\n",
            "Name: Region, dtype: int64\n",
            "Milk\n",
            " 2550357\n",
            "Frozen\n",
            " 1351650\n",
            "Shape of training data (440, 8)\n"
          ],
          "name": "stdout"
        },
        {
          "output_type": "execute_result",
          "data": {
            "text/html": [
              "<div>\n",
              "<style scoped>\n",
              "    .dataframe tbody tr th:only-of-type {\n",
              "        vertical-align: middle;\n",
              "    }\n",
              "\n",
              "    .dataframe tbody tr th {\n",
              "        vertical-align: top;\n",
              "    }\n",
              "\n",
              "    .dataframe thead th {\n",
              "        text-align: right;\n",
              "    }\n",
              "</style>\n",
              "<table border=\"1\" class=\"dataframe\">\n",
              "  <thead>\n",
              "    <tr style=\"text-align: right;\">\n",
              "      <th></th>\n",
              "      <th>Channel</th>\n",
              "      <th>Region</th>\n",
              "      <th>Fresh</th>\n",
              "      <th>Milk</th>\n",
              "      <th>Grocery</th>\n",
              "      <th>Frozen</th>\n",
              "      <th>Detergents_Paper</th>\n",
              "      <th>Delicassen</th>\n",
              "    </tr>\n",
              "  </thead>\n",
              "  <tbody>\n",
              "    <tr>\n",
              "      <th>count</th>\n",
              "      <td>440.000000</td>\n",
              "      <td>440.000000</td>\n",
              "      <td>440.000000</td>\n",
              "      <td>440.000000</td>\n",
              "      <td>440.000000</td>\n",
              "      <td>440.000000</td>\n",
              "      <td>440.000000</td>\n",
              "      <td>440.000000</td>\n",
              "    </tr>\n",
              "    <tr>\n",
              "      <th>mean</th>\n",
              "      <td>1.322727</td>\n",
              "      <td>2.543182</td>\n",
              "      <td>12000.297727</td>\n",
              "      <td>5796.265909</td>\n",
              "      <td>7951.277273</td>\n",
              "      <td>3071.931818</td>\n",
              "      <td>2881.493182</td>\n",
              "      <td>1524.870455</td>\n",
              "    </tr>\n",
              "    <tr>\n",
              "      <th>std</th>\n",
              "      <td>0.468052</td>\n",
              "      <td>0.774272</td>\n",
              "      <td>12647.328865</td>\n",
              "      <td>7380.377175</td>\n",
              "      <td>9503.162829</td>\n",
              "      <td>4854.673333</td>\n",
              "      <td>4767.854448</td>\n",
              "      <td>2820.105937</td>\n",
              "    </tr>\n",
              "    <tr>\n",
              "      <th>min</th>\n",
              "      <td>1.000000</td>\n",
              "      <td>1.000000</td>\n",
              "      <td>3.000000</td>\n",
              "      <td>55.000000</td>\n",
              "      <td>3.000000</td>\n",
              "      <td>25.000000</td>\n",
              "      <td>3.000000</td>\n",
              "      <td>3.000000</td>\n",
              "    </tr>\n",
              "    <tr>\n",
              "      <th>25%</th>\n",
              "      <td>1.000000</td>\n",
              "      <td>2.000000</td>\n",
              "      <td>3127.750000</td>\n",
              "      <td>1533.000000</td>\n",
              "      <td>2153.000000</td>\n",
              "      <td>742.250000</td>\n",
              "      <td>256.750000</td>\n",
              "      <td>408.250000</td>\n",
              "    </tr>\n",
              "    <tr>\n",
              "      <th>50%</th>\n",
              "      <td>1.000000</td>\n",
              "      <td>3.000000</td>\n",
              "      <td>8504.000000</td>\n",
              "      <td>3627.000000</td>\n",
              "      <td>4755.500000</td>\n",
              "      <td>1526.000000</td>\n",
              "      <td>816.500000</td>\n",
              "      <td>965.500000</td>\n",
              "    </tr>\n",
              "    <tr>\n",
              "      <th>75%</th>\n",
              "      <td>2.000000</td>\n",
              "      <td>3.000000</td>\n",
              "      <td>16933.750000</td>\n",
              "      <td>7190.250000</td>\n",
              "      <td>10655.750000</td>\n",
              "      <td>3554.250000</td>\n",
              "      <td>3922.000000</td>\n",
              "      <td>1820.250000</td>\n",
              "    </tr>\n",
              "    <tr>\n",
              "      <th>max</th>\n",
              "      <td>2.000000</td>\n",
              "      <td>3.000000</td>\n",
              "      <td>112151.000000</td>\n",
              "      <td>73498.000000</td>\n",
              "      <td>92780.000000</td>\n",
              "      <td>60869.000000</td>\n",
              "      <td>40827.000000</td>\n",
              "      <td>47943.000000</td>\n",
              "    </tr>\n",
              "  </tbody>\n",
              "</table>\n",
              "</div>"
            ],
            "text/plain": [
              "          Channel      Region  ...  Detergents_Paper    Delicassen\n",
              "count  440.000000  440.000000  ...        440.000000    440.000000\n",
              "mean     1.322727    2.543182  ...       2881.493182   1524.870455\n",
              "std      0.468052    0.774272  ...       4767.854448   2820.105937\n",
              "min      1.000000    1.000000  ...          3.000000      3.000000\n",
              "25%      1.000000    2.000000  ...        256.750000    408.250000\n",
              "50%      1.000000    3.000000  ...        816.500000    965.500000\n",
              "75%      2.000000    3.000000  ...       3922.000000   1820.250000\n",
              "max      2.000000    3.000000  ...      40827.000000  47943.000000\n",
              "\n",
              "[8 rows x 8 columns]"
            ]
          },
          "metadata": {
            "tags": []
          },
          "execution_count": 101
        }
      ]
    },
    {
      "cell_type": "code",
      "metadata": {
        "id": "a7tt5p77xWEC",
        "colab_type": "code",
        "outputId": "c05390ce-48da-4ae6-842b-69a2b5382be6",
        "colab": {
          "base_uri": "https://localhost:8080/",
          "height": 191
        }
      },
      "source": [
        "# remove channel and region\n",
        "trainData = trainData.iloc[:, 2:]\n",
        "trainData.head()"
      ],
      "execution_count": 0,
      "outputs": [
        {
          "output_type": "execute_result",
          "data": {
            "text/html": [
              "<div>\n",
              "<style scoped>\n",
              "    .dataframe tbody tr th:only-of-type {\n",
              "        vertical-align: middle;\n",
              "    }\n",
              "\n",
              "    .dataframe tbody tr th {\n",
              "        vertical-align: top;\n",
              "    }\n",
              "\n",
              "    .dataframe thead th {\n",
              "        text-align: right;\n",
              "    }\n",
              "</style>\n",
              "<table border=\"1\" class=\"dataframe\">\n",
              "  <thead>\n",
              "    <tr style=\"text-align: right;\">\n",
              "      <th></th>\n",
              "      <th>Fresh</th>\n",
              "      <th>Milk</th>\n",
              "      <th>Grocery</th>\n",
              "      <th>Frozen</th>\n",
              "      <th>Detergents_Paper</th>\n",
              "      <th>Delicassen</th>\n",
              "    </tr>\n",
              "  </thead>\n",
              "  <tbody>\n",
              "    <tr>\n",
              "      <th>0</th>\n",
              "      <td>12669</td>\n",
              "      <td>9656</td>\n",
              "      <td>7561</td>\n",
              "      <td>214</td>\n",
              "      <td>2674</td>\n",
              "      <td>1338</td>\n",
              "    </tr>\n",
              "    <tr>\n",
              "      <th>1</th>\n",
              "      <td>7057</td>\n",
              "      <td>9810</td>\n",
              "      <td>9568</td>\n",
              "      <td>1762</td>\n",
              "      <td>3293</td>\n",
              "      <td>1776</td>\n",
              "    </tr>\n",
              "    <tr>\n",
              "      <th>2</th>\n",
              "      <td>6353</td>\n",
              "      <td>8808</td>\n",
              "      <td>7684</td>\n",
              "      <td>2405</td>\n",
              "      <td>3516</td>\n",
              "      <td>7844</td>\n",
              "    </tr>\n",
              "    <tr>\n",
              "      <th>3</th>\n",
              "      <td>13265</td>\n",
              "      <td>1196</td>\n",
              "      <td>4221</td>\n",
              "      <td>6404</td>\n",
              "      <td>507</td>\n",
              "      <td>1788</td>\n",
              "    </tr>\n",
              "    <tr>\n",
              "      <th>4</th>\n",
              "      <td>22615</td>\n",
              "      <td>5410</td>\n",
              "      <td>7198</td>\n",
              "      <td>3915</td>\n",
              "      <td>1777</td>\n",
              "      <td>5185</td>\n",
              "    </tr>\n",
              "  </tbody>\n",
              "</table>\n",
              "</div>"
            ],
            "text/plain": [
              "   Fresh  Milk  Grocery  Frozen  Detergents_Paper  Delicassen\n",
              "0  12669  9656     7561     214              2674        1338\n",
              "1   7057  9810     9568    1762              3293        1776\n",
              "2   6353  8808     7684    2405              3516        7844\n",
              "3  13265  1196     4221    6404               507        1788\n",
              "4  22615  5410     7198    3915              1777        5185"
            ]
          },
          "metadata": {
            "tags": []
          },
          "execution_count": 102
        }
      ]
    },
    {
      "cell_type": "markdown",
      "metadata": {
        "id": "0cWZgP8MrezJ",
        "colab_type": "text"
      },
      "source": [
        "# K Means"
      ]
    },
    {
      "cell_type": "code",
      "metadata": {
        "id": "BT3hjk9enhvU",
        "colab_type": "code",
        "outputId": "f2d78c96-9259-4251-85b4-fe565551f536",
        "colab": {
          "base_uri": "https://localhost:8080/",
          "height": 49
        }
      },
      "source": [
        "# using default k means has 8 clusters\n",
        "kmeans_model = KMeans()\n",
        "kmeans_model.fit(trainData)\n",
        "print(\"Silhouette score for clustering:\",   silhouette_score(trainData, kmeans_model.labels_))\n",
        "print(\"Sum of squared distances for clustering:\", kmeans_model.inertia_)"
      ],
      "execution_count": 4,
      "outputs": [
        {
          "output_type": "stream",
          "text": [
            "Silhouette score for clustering: 0.3642754191240703\n",
            "Sum of squared distances for clustering: 36242393778.11966\n"
          ],
          "name": "stdout"
        }
      ]
    },
    {
      "cell_type": "code",
      "metadata": {
        "id": "bW2G0-aunrxJ",
        "colab_type": "code",
        "outputId": "d006da9e-6371-4a50-c28e-23d2682af208",
        "colab": {
          "base_uri": "https://localhost:8080/",
          "height": 49
        }
      },
      "source": [
        "#Random Hyperparameter tuning for neural networks model\n",
        "print(\"RandomizedSearchCV-Kmeans\")\n",
        "parameters={'n_clusters': range(2,30,1), 'init': ['k-means++', 'random'],'tol': [0.0001,0.00001]}\n",
        "nn_random = RandomizedSearchCV(kmeans_model,parameters, cv=5)\n",
        "nn_random.fit(trainData)\n",
        "nn_rand_parm=nn_random.best_params_\n",
        "print(nn_rand_parm)"
      ],
      "execution_count": 18,
      "outputs": [
        {
          "output_type": "stream",
          "text": [
            "RandomizedSearchCV-Kmeans\n",
            "{'tol': 0.0001, 'n_clusters': 22, 'init': 'k-means++'}\n"
          ],
          "name": "stdout"
        }
      ]
    },
    {
      "cell_type": "code",
      "metadata": {
        "id": "it1J140woLDB",
        "colab_type": "code",
        "outputId": "f5be3435-21d4-493b-b69f-84386918fe39",
        "colab": {
          "base_uri": "https://localhost:8080/",
          "height": 49
        }
      },
      "source": [
        "# using default k means \n",
        "kmeans_model = KMeans(**nn_rand_parm)\n",
        "kmeans_model.fit(trainData)\n",
        "print(\"Silhouette score for clustering:\",   silhouette_score(trainData, kmeans_model.labels_))\n",
        "print(\"Sum of squared distances for clustering:\", kmeans_model.inertia_)"
      ],
      "execution_count": 17,
      "outputs": [
        {
          "output_type": "stream",
          "text": [
            "Silhouette score for clustering: 0.23874323805865824\n",
            "Sum of squared distances for clustering: 10572660492.079815\n"
          ],
          "name": "stdout"
        }
      ]
    },
    {
      "cell_type": "code",
      "metadata": {
        "id": "VeiH37d3pEw6",
        "colab_type": "code",
        "colab": {}
      },
      "source": [
        "#Finding optimal value for number of clusters -k\n",
        "Sum_of_squared_distances = []\n",
        "sil_mat = []\n",
        "K = range(2,70)\n",
        "for k in K:\n",
        "    kmeans_model = KMeans(n_clusters=k)\n",
        "    kmeans_model = kmeans_model.fit(trainData)\n",
        "    Sum_of_squared_distances.append(kmeans_model.inertia_)\n",
        "    sil_mat.append(silhouette_score(trainData, kmeans_model.labels_))"
      ],
      "execution_count": 0,
      "outputs": []
    },
    {
      "cell_type": "code",
      "metadata": {
        "id": "KpFGmI4HpH7f",
        "colab_type": "code",
        "outputId": "615ca5fc-d7d6-4468-accd-b4aef5f7d275",
        "colab": {
          "base_uri": "https://localhost:8080/",
          "height": 572
        }
      },
      "source": [
        "#Plot elbow curve using sum of sqaures\n",
        "plt.plot(K, Sum_of_squared_distances, 'bx-')\n",
        "plt.xlabel('k')\n",
        "plt.ylabel('Sum_of_squared_distances')\n",
        "plt.title('Elbow Method For Optimal k - Sum of squares to clusters')\n",
        "plt.show()\n",
        "\n",
        "#Plot elbow curve using silhouette measure\n",
        "plt.plot(K, sil_mat, 'bx-')\n",
        "plt.xlabel('k')\n",
        "plt.ylabel('Silhouette measure')\n",
        "plt.title('Elbow Method For Optimal k - Silhouette')\n",
        "plt.show()"
      ],
      "execution_count": 0,
      "outputs": [
        {
          "output_type": "display_data",
          "data": {
            "image/png": "[encoded data removed]",
            "text/plain": [
              "<Figure size 432x288 with 1 Axes>"
            ]
          },
          "metadata": {
            "tags": []
          }
        },
        {
          "output_type": "display_data",
          "data": {
            "image/png": "[encoded data removed]",
            "text/plain": [
              "<Figure size 432x288 with 1 Axes>"
            ]
          },
          "metadata": {
            "tags": []
          }
        }
      ]
    },
    {
      "cell_type": "code",
      "metadata": {
        "id": "ZABIRhULsChv",
        "colab_type": "code",
        "outputId": "20bfdd05-50dd-40d3-a635-8ff8c81f1ecc",
        "colab": {
          "base_uri": "https://localhost:8080/",
          "height": 49
        }
      },
      "source": [
        "# using default k means \n",
        "kmeans_model = KMeans(n_clusters = 3)\n",
        "kmeans_model.fit(trainData)\n",
        "print(\"Silhouette score for clustering:\",   silhouette_score(trainData, kmeans_model.labels_))\n",
        "print(\"Sum of squared distances for clustering:\", kmeans_model.inertia_)"
      ],
      "execution_count": 20,
      "outputs": [
        {
          "output_type": "stream",
          "text": [
            "Silhouette score for clustering: 0.47977587145684614\n",
            "Sum of squared distances for clustering: 80333265953.4602\n"
          ],
          "name": "stdout"
        }
      ]
    },
    {
      "cell_type": "code",
      "metadata": {
        "id": "xdGheVhlIUqJ",
        "colab_type": "code",
        "colab": {
          "base_uri": "https://localhost:8080/",
          "height": 363
        },
        "outputId": "6613a369-6267-435d-b74a-15d55f0b58fb"
      },
      "source": [
        "kmeans_model.labels_"
      ],
      "execution_count": 21,
      "outputs": [
        {
          "output_type": "execute_result",
          "data": {
            "text/plain": [
              "array([1, 1, 1, 1, 0, 1, 1, 1, 1, 2, 1, 1, 0, 1, 0, 1, 1, 1, 1, 1, 1, 1,\n",
              "       0, 2, 0, 1, 1, 1, 2, 0, 1, 1, 1, 0, 1, 1, 0, 1, 2, 0, 0, 1, 1, 2,\n",
              "       1, 2, 2, 2, 1, 2, 1, 1, 0, 1, 0, 1, 2, 1, 1, 1, 1, 2, 1, 1, 1, 2,\n",
              "       1, 1, 1, 1, 1, 1, 1, 1, 1, 1, 1, 2, 1, 1, 1, 1, 1, 1, 1, 2, 2, 0,\n",
              "       1, 0, 1, 1, 2, 1, 1, 1, 1, 1, 1, 1, 1, 1, 1, 0, 1, 1, 1, 1, 1, 2,\n",
              "       1, 2, 1, 1, 1, 1, 1, 1, 1, 1, 1, 1, 1, 1, 0, 0, 1, 1, 1, 0, 1, 1,\n",
              "       1, 1, 1, 1, 1, 1, 1, 1, 1, 0, 0, 1, 1, 2, 1, 1, 1, 0, 1, 1, 1, 1,\n",
              "       1, 2, 1, 1, 1, 1, 1, 1, 1, 2, 1, 2, 1, 1, 1, 1, 1, 2, 1, 2, 1, 1,\n",
              "       0, 1, 1, 1, 1, 0, 1, 0, 1, 1, 1, 1, 1, 1, 1, 1, 1, 1, 1, 1, 0, 1,\n",
              "       1, 1, 2, 2, 0, 1, 1, 2, 1, 1, 1, 2, 1, 2, 1, 1, 1, 1, 2, 1, 1, 1,\n",
              "       1, 1, 1, 1, 1, 1, 1, 1, 1, 1, 1, 1, 0, 1, 1, 1, 1, 1, 1, 0, 0, 0,\n",
              "       1, 1, 1, 1, 1, 1, 1, 1, 1, 2, 1, 0, 1, 0, 1, 1, 0, 0, 1, 1, 1, 1,\n",
              "       1, 2, 2, 1, 2, 1, 1, 1, 1, 0, 1, 1, 0, 1, 1, 1, 1, 1, 0, 0, 0, 0,\n",
              "       1, 1, 1, 0, 1, 1, 1, 1, 1, 1, 1, 1, 1, 1, 1, 2, 1, 1, 2, 1, 2, 1,\n",
              "       1, 2, 1, 0, 2, 1, 1, 1, 1, 1, 1, 2, 1, 1, 1, 1, 0, 0, 1, 1, 1, 1,\n",
              "       1, 2, 1, 2, 1, 0, 1, 1, 1, 1, 1, 1, 1, 2, 1, 1, 1, 0, 1, 2, 1, 2,\n",
              "       1, 2, 1, 1, 1, 1, 1, 1, 1, 1, 1, 1, 1, 1, 1, 1, 1, 1, 0, 1, 1, 1,\n",
              "       1, 1, 1, 0, 1, 1, 0, 1, 0, 1, 2, 1, 1, 1, 1, 1, 1, 1, 1, 0, 1, 1,\n",
              "       1, 1, 1, 1, 1, 0, 0, 0, 1, 1, 0, 2, 1, 1, 1, 1, 1, 1, 1, 1, 1, 1,\n",
              "       2, 1, 1, 1, 0, 1, 1, 1, 1, 0, 1, 1, 1, 1, 1, 1, 1, 0, 0, 2, 1, 1],\n",
              "      dtype=int32)"
            ]
          },
          "metadata": {
            "tags": []
          },
          "execution_count": 21
        }
      ]
    },
    {
      "cell_type": "code",
      "metadata": {
        "id": "yEXSbU3txFz8",
        "colab_type": "code",
        "outputId": "5e746ecd-60fd-4253-9512-3a5bc7059898",
        "colab": {
          "base_uri": "https://localhost:8080/",
          "height": 33
        }
      },
      "source": [
        "#Add Cluster Number to each datapoint + save file\n",
        "df_kmeans=trainData\n",
        "df_kmeans['Cluster Number']=kmeans_model.predict(trainData)\n",
        "df_kmeans['Channel'] = trainData_cpy['Channel']\n",
        "df_kmeans['Region'] = trainData_cpy['Region']\n",
        "print(df_kmeans.shape)\n",
        "df_kmeans.head()\n",
        "export_csv = df_kmeans.to_csv(r'/gdrive/My Drive/CIS 508 Python/Assignment-5/Prob2_KmeansClusters_4.csv')"
      ],
      "execution_count": 0,
      "outputs": [
        {
          "output_type": "stream",
          "text": [
            "(440, 9)\n"
          ],
          "name": "stdout"
        }
      ]
    },
    {
      "cell_type": "code",
      "metadata": {
        "id": "UjLydPA6xDy4",
        "colab_type": "code",
        "outputId": "5169b779-857b-4cb6-b689-9112bd3d24bd",
        "colab": {
          "base_uri": "https://localhost:8080/",
          "height": 536
        }
      },
      "source": [
        "#channel cluster break up\n",
        "pivot_df = df_kmeans.pivot_table(index='Cluster Number', columns='Channel', values='Milk', aggfunc = len)\n",
        "print(pivot_df)\n",
        "#channel cluster\n",
        "colors = [\"orange\", \"grey\"]\n",
        "pivot_df.plot.bar(stacked=True, color=colors, figsize=(10,7))"
      ],
      "execution_count": 0,
      "outputs": [
        {
          "output_type": "stream",
          "text": [
            "Channel           1   2\n",
            "Cluster Number         \n",
            "0               244  86\n",
            "1                 2  48\n",
            "2                52   8\n"
          ],
          "name": "stdout"
        },
        {
          "output_type": "execute_result",
          "data": {
            "text/plain": [
              "<matplotlib.axes._subplots.AxesSubplot at 0x7ff47a78e748>"
            ]
          },
          "metadata": {
            "tags": []
          },
          "execution_count": 141
        },
        {
          "output_type": "display_data",
          "data": {
            "image/png": "[encoded data removed]",
            "text/plain": [
              "<Figure size 720x504 with 1 Axes>"
            ]
          },
          "metadata": {
            "tags": []
          }
        }
      ]
    },
    {
      "cell_type": "code",
      "metadata": {
        "id": "cxW1-kPn2lSb",
        "colab_type": "code",
        "outputId": "4ab70dde-c210-4e74-d5d1-5316e2ec5491",
        "colab": {
          "base_uri": "https://localhost:8080/",
          "height": 536
        }
      },
      "source": [
        "#region cluster break up\n",
        "pivot_df = df_kmeans.pivot_table(index='Cluster Number', columns='Region', values='Milk', aggfunc = len)\n",
        "print(pivot_df)\n",
        "#region cluster\n",
        "colors = [\"green\", \"grey\", \"pink\"]\n",
        "pivot_df.plot.bar(stacked=True, color=colors, figsize=(10,7))"
      ],
      "execution_count": 0,
      "outputs": [
        {
          "output_type": "stream",
          "text": [
            "Region           1   2    3\n",
            "Cluster Number             \n",
            "0               56  35  239\n",
            "1               10   8   32\n",
            "2               11   4   45\n"
          ],
          "name": "stdout"
        },
        {
          "output_type": "execute_result",
          "data": {
            "text/plain": [
              "<matplotlib.axes._subplots.AxesSubplot at 0x7ff47a6749e8>"
            ]
          },
          "metadata": {
            "tags": []
          },
          "execution_count": 142
        },
        {
          "output_type": "display_data",
          "data": {
            "image/png": "[encoded data removed]",
            "text/plain": [
              "<Figure size 720x504 with 1 Axes>"
            ]
          },
          "metadata": {
            "tags": []
          }
        }
      ]
    },
    {
      "cell_type": "code",
      "metadata": {
        "id": "wy6vy3tl3Sdb",
        "colab_type": "code",
        "outputId": "2a423151-cf82-4a61-d81a-6f526afb354d",
        "colab": {
          "base_uri": "https://localhost:8080/",
          "height": 536
        }
      },
      "source": [
        "#product cluster break up\n",
        "pivot_df_1 = df_kmeans.pivot_table(index='Cluster Number', values='Milk', aggfunc = np.sum)\n",
        "pivot_df_2 = df_kmeans.pivot_table(index='Cluster Number', values='Fresh', aggfunc = np.sum)\n",
        "pivot_df_3 = df_kmeans.pivot_table(index='Cluster Number', values='Grocery', aggfunc = np.sum)\n",
        "pivot_df_4 = df_kmeans.pivot_table(index='Cluster Number', values='Frozen', aggfunc = np.sum)\n",
        "pivot_df_5 = df_kmeans.pivot_table(index='Cluster Number', values='Detergents_Paper', aggfunc = np.sum)\n",
        "pivot_df_6 = df_kmeans.pivot_table(index='Cluster Number', values='Delicassen', aggfunc = np.sum)\n",
        "pivot_df_1['Fresh'] = pivot_df_2['Fresh']\n",
        "pivot_df_1['Grocery'] = pivot_df_3['Grocery']\n",
        "pivot_df_1['Frozen'] = pivot_df_4['Frozen']\n",
        "pivot_df_1['Detergents_Paper'] = pivot_df_5['Detergents_Paper']\n",
        "pivot_df_1['Delicassen'] = pivot_df_6['Delicassen']\n",
        "print(pivot_df_1)\n",
        "#product cluster\n",
        "colors = [\"green\", \"grey\", \"pink\",\"red\",\"blue\"]\n",
        "pivot_df_1.plot.bar(stacked=True, color=colors, figsize=(10,7))"
      ],
      "execution_count": 0,
      "outputs": [
        {
          "output_type": "stream",
          "text": [
            "                   Milk    Fresh  Grocery  Frozen  Detergents_Paper  Delicassen\n",
            "Cluster Number                                                                 \n",
            "0               1262119  2723645  1742550  848978            585109      375374\n",
            "1                925571   400002  1378695   99834            620368      112601\n",
            "2                362667  2156484   377317  402838             62380      182968\n"
          ],
          "name": "stdout"
        },
        {
          "output_type": "execute_result",
          "data": {
            "text/plain": [
              "<matplotlib.axes._subplots.AxesSubplot at 0x7ff47a78e358>"
            ]
          },
          "metadata": {
            "tags": []
          },
          "execution_count": 143
        },
        {
          "output_type": "display_data",
          "data": {
            "image/png": "[encoded data removed]",
            "text/plain": [
              "<Figure size 720x504 with 1 Axes>"
            ]
          },
          "metadata": {
            "tags": []
          }
        }
      ]
    },
    {
      "cell_type": "markdown",
      "metadata": {
        "id": "OAQKCuszsIeQ",
        "colab_type": "text"
      },
      "source": [
        "# PCA + Kmeans"
      ]
    },
    {
      "cell_type": "code",
      "metadata": {
        "id": "vImntzSQqtzP",
        "colab_type": "code",
        "colab": {}
      },
      "source": [
        "pca = PCA(n_components=2)\n",
        "principalComponents = pca.fit_transform(trainData)\n",
        "principalDf = pd.DataFrame(data = principalComponents, columns= ['principal component 1','principal component 2'] )"
      ],
      "execution_count": 0,
      "outputs": []
    },
    {
      "cell_type": "code",
      "metadata": {
        "id": "KOshRyLXqwWV",
        "colab_type": "code",
        "outputId": "e042ad2d-40a7-4596-cde5-9becce65ded8",
        "colab": {
          "base_uri": "https://localhost:8080/",
          "height": 50
        }
      },
      "source": [
        "# using default k means \n",
        "kmeans_model_pca = KMeans(n_clusters= 4, init='k-means++', n_jobs = -1)\n",
        "kmeans_model_pca.fit(principalDf)\n",
        "print(\"Silhouette score for clustering:\",   silhouette_score(principalDf, kmeans_model_pca.labels_))\n",
        "print(\"Sum of squared distances for clustering:\", kmeans_model_pca.inertia_)"
      ],
      "execution_count": 0,
      "outputs": [
        {
          "output_type": "stream",
          "text": [
            "Silhouette score for clustering: 0.46235710643982336\n",
            "Sum of squared distances for clustering: 43781540413.66852\n"
          ],
          "name": "stdout"
        }
      ]
    },
    {
      "cell_type": "code",
      "metadata": {
        "id": "nbYGWGPnKH-b",
        "colab_type": "code",
        "colab": {}
      },
      "source": [
        "#Finding optimal value for number of clusters -k\n",
        "Sum_of_squared_distances = []\n",
        "sil_mat = []\n",
        "K = range(2,70)\n",
        "for k in K:\n",
        "    kmeans_model = KMeans(n_clusters=k)\n",
        "    kmeans_model = kmeans_model.fit(principalDf)\n",
        "    Sum_of_squared_distances.append(kmeans_model.inertia_)\n",
        "    sil_mat.append(silhouette_score(principalDf, kmeans_model.labels_))"
      ],
      "execution_count": 0,
      "outputs": []
    },
    {
      "cell_type": "code",
      "metadata": {
        "id": "okW2qWUxKJ1g",
        "colab_type": "code",
        "colab": {
          "base_uri": "https://localhost:8080/",
          "height": 573
        },
        "outputId": "115da65a-1544-45f2-e07b-6cedbbd7623e"
      },
      "source": [
        "#Plot elbow curve using sum of sqaures\n",
        "plt.plot(K, Sum_of_squared_distances, 'bx-')\n",
        "plt.xlabel('k')\n",
        "plt.ylabel('Sum_of_squared_distances')\n",
        "plt.title('Elbow Method For Optimal k - Sum of squares to clusters')\n",
        "plt.show()\n",
        "\n",
        "#Plot elbow curve using silhouette measure\n",
        "plt.plot(K, sil_mat, 'bx-')\n",
        "plt.xlabel('k')\n",
        "plt.ylabel('Silhouette measure')\n",
        "plt.title('Elbow Method For Optimal k - Silhouette')\n",
        "plt.show()"
      ],
      "execution_count": 25,
      "outputs": [
        {
          "output_type": "display_data",
          "data": {
            "image/png": "[encoded data removed]",
            "text/plain": [
              "<Figure size 432x288 with 1 Axes>"
            ]
          },
          "metadata": {
            "tags": []
          }
        },
        {
          "output_type": "display_data",
          "data": {
            "image/png": "[encoded data removed]",
            "text/plain": [
              "<Figure size 432x288 with 1 Axes>"
            ]
          },
          "metadata": {
            "tags": []
          }
        }
      ]
    },
    {
      "cell_type": "code",
      "metadata": {
        "id": "wB1xtbGnq55d",
        "colab_type": "code",
        "outputId": "8bb95f39-dc2c-425b-fc9e-cb0a041960ef",
        "colab": {
          "base_uri": "https://localhost:8080/",
          "height": 443
        }
      },
      "source": [
        "plt.figure(figsize=(10, 7))  \n",
        "plt.scatter(principalDf['principal component 1'], principalDf['principal component 2'], c=kmeans_model.labels_) "
      ],
      "execution_count": 0,
      "outputs": [
        {
          "output_type": "execute_result",
          "data": {
            "text/plain": [
              "<matplotlib.collections.PathCollection at 0x7ff47aa38a20>"
            ]
          },
          "metadata": {
            "tags": []
          },
          "execution_count": 131
        },
        {
          "output_type": "display_data",
          "data": {
            "image/png": "[encoded data removed]",
            "text/plain": [
              "<Figure size 720x504 with 1 Axes>"
            ]
          },
          "metadata": {
            "tags": []
          }
        }
      ]
    },
    {
      "cell_type": "code",
      "metadata": {
        "id": "flsUTErP_HPn",
        "colab_type": "code",
        "outputId": "6f875340-8cce-4c0a-c6a6-82ee48a67b9b",
        "colab": {
          "base_uri": "https://localhost:8080/",
          "height": 207
        }
      },
      "source": [
        "#Add Cluster Number to each datapoint + save file\n",
        "df_kmeans_pca=trainData\n",
        "df_kmeans_pca['Cluster Number']=kmeans_model_pca.predict(principalDf)\n",
        "df_kmeans_pca['Channel'] = trainData_cpy['Channel']\n",
        "df_kmeans_pca['Region'] = trainData_cpy['Region']\n",
        "print(df_kmeans_pca.shape)\n",
        "df_kmeans_pca.head()\n",
        "#export_csv = df_kmeans.to_csv(r'/gdrive/My Drive/CIS 508 Python/Assignment-5/Prob2_KmeansClusters_4.csv')"
      ],
      "execution_count": 0,
      "outputs": [
        {
          "output_type": "stream",
          "text": [
            "(440, 9)\n"
          ],
          "name": "stdout"
        },
        {
          "output_type": "execute_result",
          "data": {
            "text/html": [
              "<div>\n",
              "<style scoped>\n",
              "    .dataframe tbody tr th:only-of-type {\n",
              "        vertical-align: middle;\n",
              "    }\n",
              "\n",
              "    .dataframe tbody tr th {\n",
              "        vertical-align: top;\n",
              "    }\n",
              "\n",
              "    .dataframe thead th {\n",
              "        text-align: right;\n",
              "    }\n",
              "</style>\n",
              "<table border=\"1\" class=\"dataframe\">\n",
              "  <thead>\n",
              "    <tr style=\"text-align: right;\">\n",
              "      <th></th>\n",
              "      <th>Fresh</th>\n",
              "      <th>Milk</th>\n",
              "      <th>Grocery</th>\n",
              "      <th>Frozen</th>\n",
              "      <th>Detergents_Paper</th>\n",
              "      <th>Delicassen</th>\n",
              "      <th>Cluster Number</th>\n",
              "      <th>Channel</th>\n",
              "      <th>Region</th>\n",
              "    </tr>\n",
              "  </thead>\n",
              "  <tbody>\n",
              "    <tr>\n",
              "      <th>0</th>\n",
              "      <td>12669</td>\n",
              "      <td>9656</td>\n",
              "      <td>7561</td>\n",
              "      <td>214</td>\n",
              "      <td>2674</td>\n",
              "      <td>1338</td>\n",
              "      <td>0</td>\n",
              "      <td>2</td>\n",
              "      <td>3</td>\n",
              "    </tr>\n",
              "    <tr>\n",
              "      <th>1</th>\n",
              "      <td>7057</td>\n",
              "      <td>9810</td>\n",
              "      <td>9568</td>\n",
              "      <td>1762</td>\n",
              "      <td>3293</td>\n",
              "      <td>1776</td>\n",
              "      <td>2</td>\n",
              "      <td>2</td>\n",
              "      <td>3</td>\n",
              "    </tr>\n",
              "    <tr>\n",
              "      <th>2</th>\n",
              "      <td>6353</td>\n",
              "      <td>8808</td>\n",
              "      <td>7684</td>\n",
              "      <td>2405</td>\n",
              "      <td>3516</td>\n",
              "      <td>7844</td>\n",
              "      <td>0</td>\n",
              "      <td>2</td>\n",
              "      <td>3</td>\n",
              "    </tr>\n",
              "    <tr>\n",
              "      <th>3</th>\n",
              "      <td>13265</td>\n",
              "      <td>1196</td>\n",
              "      <td>4221</td>\n",
              "      <td>6404</td>\n",
              "      <td>507</td>\n",
              "      <td>1788</td>\n",
              "      <td>0</td>\n",
              "      <td>1</td>\n",
              "      <td>3</td>\n",
              "    </tr>\n",
              "    <tr>\n",
              "      <th>4</th>\n",
              "      <td>22615</td>\n",
              "      <td>5410</td>\n",
              "      <td>7198</td>\n",
              "      <td>3915</td>\n",
              "      <td>1777</td>\n",
              "      <td>5185</td>\n",
              "      <td>3</td>\n",
              "      <td>2</td>\n",
              "      <td>3</td>\n",
              "    </tr>\n",
              "  </tbody>\n",
              "</table>\n",
              "</div>"
            ],
            "text/plain": [
              "   Fresh  Milk  Grocery  Frozen  ...  Delicassen  Cluster Number  Channel  Region\n",
              "0  12669  9656     7561     214  ...        1338               0        2       3\n",
              "1   7057  9810     9568    1762  ...        1776               2        2       3\n",
              "2   6353  8808     7684    2405  ...        7844               0        2       3\n",
              "3  13265  1196     4221    6404  ...        1788               0        1       3\n",
              "4  22615  5410     7198    3915  ...        5185               3        2       3\n",
              "\n",
              "[5 rows x 9 columns]"
            ]
          },
          "metadata": {
            "tags": []
          },
          "execution_count": 146
        }
      ]
    },
    {
      "cell_type": "code",
      "metadata": {
        "id": "pURRRTIZG3Ol",
        "colab_type": "code",
        "outputId": "6d1ef621-8ab5-4519-c2dc-0ebfa9549c5a",
        "colab": {
          "base_uri": "https://localhost:8080/",
          "height": 552
        }
      },
      "source": [
        "#channel cluster break up\n",
        "pivot_df = df_kmeans_pca.pivot_table(index='Cluster Number', columns='Channel', values='Milk', aggfunc = len)\n",
        "print(pivot_df)\n",
        "#channel cluster\n",
        "colors = [\"orange\", \"grey\"]\n",
        "pivot_df.plot.bar(stacked=True, color=colors, figsize=(10,7))"
      ],
      "execution_count": 0,
      "outputs": [
        {
          "output_type": "stream",
          "text": [
            "Channel             1     2\n",
            "Cluster Number             \n",
            "0               235.0  44.0\n",
            "1                 NaN   7.0\n",
            "2                12.0  83.0\n",
            "3                51.0   8.0\n"
          ],
          "name": "stdout"
        },
        {
          "output_type": "execute_result",
          "data": {
            "text/plain": [
              "<matplotlib.axes._subplots.AxesSubplot at 0x7ff47a5b1f98>"
            ]
          },
          "metadata": {
            "tags": []
          },
          "execution_count": 147
        },
        {
          "output_type": "display_data",
          "data": {
            "image/png": "[encoded data removed]",
            "text/plain": [
              "<Figure size 720x504 with 1 Axes>"
            ]
          },
          "metadata": {
            "tags": []
          }
        }
      ]
    },
    {
      "cell_type": "code",
      "metadata": {
        "id": "Hm145uDc_Vxk",
        "colab_type": "code",
        "outputId": "69f950cd-a95e-4b5c-ea7e-e27f6a721f86",
        "colab": {
          "base_uri": "https://localhost:8080/",
          "height": 556
        }
      },
      "source": [
        "#region cluster break up\n",
        "pivot_df_1 = df_kmeans_pca.pivot_table(index='Cluster Number', values='Milk', aggfunc = np.sum)\n",
        "pivot_df_2 = df_kmeans_pca.pivot_table(index='Cluster Number', values='Fresh', aggfunc = np.sum)\n",
        "pivot_df_3 = df_kmeans_pca.pivot_table(index='Cluster Number', values='Grocery', aggfunc = np.sum)\n",
        "pivot_df_4 = df_kmeans_pca.pivot_table(index='Cluster Number', values='Frozen', aggfunc = np.sum)\n",
        "pivot_df_5 = df_kmeans_pca.pivot_table(index='Cluster Number', values='Detergents_Paper', aggfunc = np.sum)\n",
        "pivot_df_6 = df_kmeans_pca.pivot_table(index='Cluster Number', values='Delicassen', aggfunc = np.sum)\n",
        "pivot_df_1['Fresh'] = pivot_df_2['Fresh']\n",
        "pivot_df_1['Grocery'] = pivot_df_3['Grocery']\n",
        "pivot_df_1['Frozen'] = pivot_df_4['Frozen']\n",
        "pivot_df_1['Detergents_Paper'] = pivot_df_5['Detergents_Paper']\n",
        "pivot_df_1['Delicassen'] = pivot_df_6['Delicassen']\n",
        "print(pivot_df_1)\n",
        "#region cluster\n",
        "colors = [\"green\", \"grey\", \"pink\",\"red\",\"blue\"]\n",
        "pivot_df_1.plot.bar(stacked=True, color=colors, figsize=(10,7))"
      ],
      "execution_count": 0,
      "outputs": [
        {
          "output_type": "stream",
          "text": [
            "                  Milk    Fresh  Grocery  Frozen  Detergents_Paper  Delicassen\n",
            "Cluster Number                                                                \n",
            "0               835570  2508140  1035970  777764            276829      287185\n",
            "1               397566   218771   500692   69618            235588       92554\n",
            "2               999876   456840  1606430  138946            693728      156834\n",
            "3               317345  2096380   355470  365322             61712      134370\n"
          ],
          "name": "stdout"
        },
        {
          "output_type": "execute_result",
          "data": {
            "text/plain": [
              "<matplotlib.axes._subplots.AxesSubplot at 0x7ff47a9e4cf8>"
            ]
          },
          "metadata": {
            "tags": []
          },
          "execution_count": 133
        },
        {
          "output_type": "display_data",
          "data": {
            "image/png": "[encoded data removed]",
            "text/plain": [
              "<Figure size 720x504 with 1 Axes>"
            ]
          },
          "metadata": {
            "tags": []
          }
        }
      ]
    }
  ]
}